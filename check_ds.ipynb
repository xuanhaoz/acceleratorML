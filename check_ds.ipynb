{
 "cells": [
  {
   "cell_type": "code",
   "execution_count": 1,
   "metadata": {},
   "outputs": [],
   "source": [
    "import scipy.io as sio\n",
    "import os\n",
    "import multiprocessing"
   ]
  },
  {
   "cell_type": "code",
   "execution_count": 2,
   "metadata": {},
   "outputs": [],
   "source": [
    "def check_file(file):\n",
    "    try:\n",
    "        matfile = sio.loadmat(file)\n",
    "    except:\n",
    "        return True, file\n",
    "\n",
    "    post_cor = matfile.get('postCorrection')\n",
    "    if len(post_cor) != 4154:\n",
    "        return True, file\n",
    "    else:\n",
    "        return False, file\n",
    "\n",
    "\n",
    "dir_path = \"./matlab/seeds/\"\n",
    "for file in next(os.walk(dir_path))[2]:\n",
    "    pass\n",
    "if __name__ == \"__main__\":\n",
    "    with multiprocessing.Pool(processes=16) as pool:\n",
    "        check_out = pool.map(check_file, [dir_path + file for file in next(os.walk(dir_path))[2]])\n"
   ]
  },
  {
   "cell_type": "code",
   "execution_count": 3,
   "metadata": {},
   "outputs": [
    {
     "name": "stdout",
     "output_type": "stream",
     "text": [
      "[(True, './matlab/seeds/seed12699.mat'), (True, './matlab/seeds/seed10834.mat'), (True, './matlab/seeds/seed15434.mat'), (True, './matlab/seeds/seed15104.mat'), (True, './matlab/seeds/seed12573.mat'), (True, './matlab/seeds/seed20098.mat'), (True, './matlab/seeds/seed13530.mat'), (True, './matlab/seeds/seed11031.mat'), (True, './matlab/seeds/seed15600.mat'), (True, './matlab/seeds/seed16116.mat'), (True, './matlab/seeds/seed17011.mat'), (True, './matlab/seeds/seed16933.mat'), (True, './matlab/seeds/seed18519.mat'), (True, './matlab/seeds/seed14852.mat'), (True, './matlab/seeds/seed18925.mat'), (True, './matlab/seeds/seed14975.mat'), (True, './matlab/seeds/seed13219.mat'), (True, './matlab/seeds/seed19839.mat'), (True, './matlab/seeds/seed17450.mat'), (True, './matlab/seeds/seed12952.mat'), (True, './matlab/seeds/seed20062.mat'), (True, './matlab/seeds/seed12114.mat'), (True, './matlab/seeds/seed19374.mat'), (True, './matlab/seeds/seed11575.mat'), (True, './matlab/seeds/seed18499.mat'), (True, './matlab/seeds/seed12431.mat'), (True, './matlab/seeds/seed12887.mat'), (True, './matlab/seeds/seed13831.mat'), (True, './matlab/seeds/seed11463.mat'), (True, './matlab/seeds/seed17564.mat'), (True, './matlab/seeds/seed17266.mat'), (True, './matlab/seeds/seed15545.mat'), (True, './matlab/seeds/seed17174.mat'), (True, './matlab/seeds/seed11668.mat'), (True, './matlab/seeds/seed15375.mat'), (True, './matlab/seeds/seed12080.mat'), (True, './matlab/seeds/seed11325.mat'), (True, './matlab/seeds/seed17738.mat'), (True, './matlab/seeds/seed12099.mat'), (True, './matlab/seeds/seed20143.mat'), (True, './matlab/seeds/seed11788.mat'), (True, './matlab/seeds/seed14876.mat'), (True, './matlab/seeds/seed12712.mat'), (True, './matlab/seeds/seed11946.mat'), (True, './matlab/seeds/seed16266.mat'), (True, './matlab/seeds/seed15003.mat'), (True, './matlab/seeds/seed10009.mat'), (True, './matlab/seeds/seed16809.mat'), (True, './matlab/seeds/seed16652.mat'), (True, './matlab/seeds/seed16385.mat'), (True, './matlab/seeds/seed13677.mat'), (True, './matlab/seeds/seed10841.mat'), (True, './matlab/seeds/seed18549.mat'), (True, './matlab/seeds/seed12737.mat'), (True, './matlab/seeds/seed18598.mat'), (True, './matlab/seeds/seed20065.mat'), (True, './matlab/seeds/seed12305.mat'), (True, './matlab/seeds/seed16945.mat'), (True, './matlab/seeds/seed15694.mat'), (True, './matlab/seeds/seed17808.mat'), (True, './matlab/seeds/seed15161.mat'), (True, './matlab/seeds/seed12896.mat'), (True, './matlab/seeds/seed10899.mat'), (True, './matlab/seeds/seed12484.mat'), (True, './matlab/seeds/seed17185.mat'), (True, './matlab/seeds/seed14351.mat'), (True, './matlab/seeds/seed18994.mat'), (True, './matlab/seeds/seed15359.mat'), (True, './matlab/seeds/seed13642.mat'), (True, './matlab/seeds/seed15772.mat'), (True, './matlab/seeds/seed15583.mat'), (True, './matlab/seeds/seed17469.mat'), (True, './matlab/seeds/seed13157.mat'), (True, './matlab/seeds/seed15888.mat'), (True, './matlab/seeds/seed17871.mat'), (True, './matlab/seeds/seed17325.mat'), (True, './matlab/seeds/seed17921.mat'), (True, './matlab/seeds/seed14218.mat'), (True, './matlab/seeds/seed12239.mat'), (True, './matlab/seeds/seed19951.mat'), (True, './matlab/seeds/seed15769.mat'), (True, './matlab/seeds/seed17368.mat'), (True, './matlab/seeds/seed17806.mat'), (True, './matlab/seeds/seed11919.mat'), (True, './matlab/seeds/seed14748.mat'), (True, './matlab/seeds/seed13743.mat')]\n",
      "86\n"
     ]
    }
   ],
   "source": [
    "broken = [i for i in check_out if i[0] is True]\n",
    "print(broken)\n",
    "print(len(broken))"
   ]
  },
  {
   "cell_type": "code",
   "execution_count": 4,
   "metadata": {},
   "outputs": [],
   "source": [
    "for i in broken:\n",
    "    os.remove(i[1])\n",
    "\n",
    "for idx, file in enumerate(next(os.walk(dir_path))[2]):\n",
    "    os.rename(dir_path + file, dir_path + f\"seed{idx}_.mat\")\n",
    "    \n",
    "for idx, file in enumerate(next(os.walk(dir_path))[2]):\n",
    "    os.rename(dir_path + file, dir_path + f\"seed{idx}.mat\")"
   ]
  },
  {
   "cell_type": "code",
   "execution_count": 5,
   "metadata": {},
   "outputs": [
    {
     "name": "stdout",
     "output_type": "stream",
     "text": [
      "20126\n"
     ]
    }
   ],
   "source": [
    "print(len(next(os.walk(dir_path))[2]))"
   ]
  }
 ],
 "metadata": {
  "kernelspec": {
   "display_name": "torch",
   "language": "python",
   "name": "python3"
  },
  "language_info": {
   "codemirror_mode": {
    "name": "ipython",
    "version": 3
   },
   "file_extension": ".py",
   "mimetype": "text/x-python",
   "name": "python",
   "nbconvert_exporter": "python",
   "pygments_lexer": "ipython3",
   "version": "3.9.21"
  }
 },
 "nbformat": 4,
 "nbformat_minor": 2
}
