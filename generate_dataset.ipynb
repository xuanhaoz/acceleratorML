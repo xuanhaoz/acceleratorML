{
 "cells": [
  {
   "cell_type": "markdown",
   "metadata": {},
   "source": [
    "# Dataset Generation ###"
   ]
  },
  {
   "cell_type": "markdown",
   "metadata": {},
   "source": [
    "Leo: to run this you'll have to install the matlab engine for python. It's probably easiest to just run the function itself in matlab but I'm using this to test the potential option of calling the seed generation function during training to create more data in real time."
   ]
  },
  {
   "cell_type": "markdown",
   "metadata": {},
   "source": [
    "My current assumption is that this is still too slow for that option to be viable. However, I have an idea for making the model compatible with NaN's in the input BPM readings--we could add the presence of NaN as a new dimension for each BPM reading, so each reading becomes [x, y, nan_bool]. So, a NaN reading would become [0, 0, 1], potentially allowing the model to learn what NaN's signify and how to deal with them. This would mean we no longer need to check if the inital orbit is closed, and also maybe give us a more powerful model (if it works)."
   ]
  },
  {
   "cell_type": "code",
   "execution_count": 1,
   "metadata": {},
   "outputs": [],
   "source": [
    "import os\n",
    "import io\n",
    "import matlab.engine"
   ]
  },
  {
   "cell_type": "markdown",
   "metadata": {},
   "source": [
    "initializing matlab engine instance"
   ]
  },
  {
   "cell_type": "code",
   "execution_count": 2,
   "metadata": {},
   "outputs": [],
   "source": [
    "eng = matlab.engine.start_matlab()\n",
    "eng.cd(\"./matlab\")\n",
    "s = eng.genpath(\"./\")\n",
    "\n",
    "eng.addpath(s)\n",
    "\n",
    "out = io.StringIO()\n",
    "err = io.StringIO()"
   ]
  },
  {
   "cell_type": "markdown",
   "metadata": {},
   "source": [
    "For some reason running this in parallel uses an ungodly amount of RAM even with a small number of workers, so I'm just opting out of it for now. It doesn't seem to offer the expected increase in throughput either, only around 2x with 16x workers..."
   ]
  },
  {
   "cell_type": "code",
   "execution_count": null,
   "metadata": {},
   "outputs": [],
   "source": [
    "num_seeds = 2048\n",
    "parallel = 0\n",
    "eng.createSeeds(num_seeds, \"parallel\", parallel, \"correction\", 0, nargout=0, stdout=out,stderr=err)\n",
    "print(out.getvalue())"
   ]
  },
  {
   "cell_type": "code",
   "execution_count": 5,
   "metadata": {},
   "outputs": [
    {
     "name": "stdout",
     "output_type": "stream",
     "text": [
      "File: C:\\Users\\l30qi3\\acceleratorML\\matlab\\createSeeds.m Line: 101 Column: 21\n",
      "Invalid expression. When calling a function or indexing a variable, use parentheses. Otherwise, check for mismatched delimiters.\n",
      "\n",
      "\n"
     ]
    }
   ],
   "source": [
    "print(err.getvalue())"
   ]
  }
 ],
 "metadata": {
  "kernelspec": {
   "display_name": "torch",
   "language": "python",
   "name": "python3"
  },
  "language_info": {
   "codemirror_mode": {
    "name": "ipython",
    "version": 3
   },
   "file_extension": ".py",
   "mimetype": "text/x-python",
   "name": "python",
   "nbconvert_exporter": "python",
   "pygments_lexer": "ipython3",
   "version": "3.9.19"
  }
 },
 "nbformat": 4,
 "nbformat_minor": 2
}
