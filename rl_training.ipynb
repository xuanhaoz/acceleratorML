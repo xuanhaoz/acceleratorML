{
 "cells": [
  {
   "cell_type": "markdown",
   "metadata": {},
   "source": [
    "# Reinforcement Learning with PPO algorithm ###"
   ]
  },
  {
   "cell_type": "code",
   "execution_count": 1,
   "metadata": {},
   "outputs": [
    {
     "data": {
      "text/plain": [
       "<torch.autograd.anomaly_mode.set_detect_anomaly at 0x18fee49b5b0>"
      ]
     },
     "execution_count": 1,
     "metadata": {},
     "output_type": "execute_result"
    }
   ],
   "source": [
    "import at\n",
    "import pickle\n",
    "import matplotlib.pyplot as plt\n",
    "import numpy as np\n",
    "import utils_ext as utils\n",
    "import torch\n",
    "import torchrl\n",
    "from tensordict import TensorDict, TensorDictBase\n",
    "from tensordict.nn import TensorDictModule\n",
    "from collections import defaultdict\n",
    "from torchrl.envs.common import EnvBase\n",
    "\n",
    "\n",
    "from torchrl.data import Bounded, Composite, Unbounded\n",
    "\n",
    "from typing import Optional\n",
    "from tqdm import tqdm\n",
    "\n",
    "torch.autograd.set_detect_anomaly(True, True)"
   ]
  },
  {
   "cell_type": "markdown",
   "metadata": {},
   "source": [
    "## Set up simulation environment"
   ]
  },
  {
   "cell_type": "markdown",
   "metadata": {},
   "source": [
    "Read lattices into memory"
   ]
  },
  {
   "cell_type": "code",
   "execution_count": 2,
   "metadata": {},
   "outputs": [],
   "source": [
    "lattice_files = [f\"./lattices/seed{i+1:03d}_pyAT_postRFcorrection\" for i in range(100)]\n",
    "rings = []\n",
    "for lattice_file in lattice_files:\n",
    "    with open(lattice_file,'rb') as fid:\n",
    "        rings.append(pickle.load(fid))\n"
   ]
  },
  {
   "cell_type": "code",
   "execution_count": 3,
   "metadata": {},
   "outputs": [],
   "source": [
    "import time\n",
    "from multiprocessing import Process, Pipe\n",
    "\n",
    "class LatticeEnv(EnvBase):\n",
    "    \"\"\"Parallelized lattice simulation training environment.\n",
    "\n",
    "    Rings are simulated in parallel, with each given its own worker process.\n",
    "    TODO: add support for mapping single worker processes to multiple rings\n",
    "          to support bigger batches without the overhead of excessive context\n",
    "          switching.\n",
    "    \"\"\"\n",
    "    batch_locked = True \n",
    "\n",
    "    def __init__(self, rings: list[at.lattice.lattice_object.Lattice], device=\"cpu\"):\n",
    "        super().__init__(device=device, batch_size=[len(rings)])\n",
    "        self.rings = rings\n",
    "        self.conns = [Pipe() for _ in rings]\n",
    "        self.conns, worker_conns = zip(*self.conns)\n",
    "        self.workers = [Process(target=utils.worker_process, args=(ring, conn)) \n",
    "                        for ring, conn in zip(rings, worker_conns)]\n",
    "\n",
    "        print(\"initializing worker processes\")\n",
    "\n",
    "        for worker in tqdm(self.workers):\n",
    "            worker.start()\n",
    "\n",
    "        self.test_conns()\n",
    "\n",
    "        # remove?\n",
    "        self.bpm_len = utils.getBPMreading(rings[0])[0].shape[0]\n",
    "        self.cm_len = utils.getCorrectorStrengths(rings[0], \"x\").size + utils.getCorrectorStrengths(rings[0], \"y\").size\n",
    "\n",
    "        self._make_spec()\n",
    "\n",
    "\n",
    "    def test_conns(self):\n",
    "        for conn in self.conns:\n",
    "            conn.send((\"ping\", None))\n",
    "            if conn.recv() == \"received\":\n",
    "                pass\n",
    "        print(\"all pipes working\")\n",
    "\n",
    "\n",
    "    def _step(self, tensordict):\n",
    "\n",
    "        assert torch.all(~torch.isnan(tensordict[\"action\"]))\n",
    "        \n",
    "        step_start = time.time()\n",
    "\n",
    "        # should probably obtain this scaling constant in a better way...\n",
    "        action = (tensordict[\"action\"] * 1e-5)\n",
    "        action = action.numpy(force=True)\n",
    "                \n",
    "        # get batched costs for current corrector magnet strengths\n",
    "        corrector_start = time.time()\n",
    "        for conn, action in zip(self.conns, action):\n",
    "            conn.send((\"step\", action.copy()))\n",
    "        \n",
    "        costs = []\n",
    "        new_bpms = []\n",
    "        for conn in self.conns:\n",
    "            cost, new_bpm = conn.recv()\n",
    "            costs.append(cost)\n",
    "            new_bpms.append(new_bpm)\n",
    "        \n",
    "        costs = torch.tensor(np.stack(costs), dtype=torch.float32, device=self.device)\n",
    "        new_bpms = torch.tensor(np.stack(new_bpms), dtype=torch.float32, device=self.device)\n",
    "                        \n",
    "        reward = -costs.view(self.batch_size[0], 1)\n",
    "        done = torch.zeros_like(reward, dtype=torch.bool, device=self.device)\n",
    "        out = TensorDict(\n",
    "            {\n",
    "                \"bpm\": new_bpms,\n",
    "                \"reward\": reward,\n",
    "                \"done\": done,\n",
    "            },\n",
    "            tensordict.shape,\n",
    "            device=self.device\n",
    "        )\n",
    "        #print(\"out cms:\", out[\"cm\"])\n",
    "        #print(f\"one step took {time.time() - step_start} seconds\")\n",
    "        return out\n",
    "\n",
    "\n",
    "    def _reset(self, tensordict):\n",
    "        if tensordict is not None:\n",
    "            print(\"Not implemented!\")\n",
    "            return\n",
    "\n",
    "        reset_start = time.time()\n",
    "\n",
    "        for conn in self.conns:\n",
    "            conn.send((\"reset\", None))\n",
    "\n",
    "        new_bpms = []\n",
    "        for conn in self.conns:\n",
    "            cost, new_bpm = conn.recv()\n",
    "            new_bpms.append(new_bpm)\n",
    "        \n",
    "        new_bpms = torch.tensor(np.stack(new_bpms), dtype=torch.float32, device=self.device)\n",
    "\n",
    "        out = TensorDict(\n",
    "            {\n",
    "                \"bpm\": new_bpms,\n",
    "            },\n",
    "            batch_size=self.batch_size,\n",
    "            device=self.device\n",
    "        )\n",
    "\n",
    "        #print(f\"one reset took {time.time() - reset_start} seconds\")\n",
    "        return out\n",
    "\n",
    "\n",
    "    def _make_spec(self):\n",
    "        # TODO: ask about max corrector str\n",
    "\n",
    "        self.observation_spec = Composite(\n",
    "            bpm=Unbounded(shape=(self.batch_size[0], self.bpm_len, 2), \n",
    "                          dtype=torch.float32, \n",
    "                          device=self.device), \n",
    "            shape=self.batch_size,\n",
    "        )\n",
    "\n",
    "        # as this environment is stateful, could probably get rid of this\n",
    "        self.state_spec = self.observation_spec.clone()\n",
    "\n",
    "        self.action_spec = Unbounded(\n",
    "            shape=(self.batch_size[0], self.cm_len),\n",
    "            dtype=torch.float32,\n",
    "            device=self.device\n",
    "        )\n",
    "\n",
    "        self.reward_spec = Unbounded(shape=(self.batch_size[0], 1), device=self.device)\n",
    "\n",
    "\n",
    "    def _set_seed(self, seed: Optional[int]):\n",
    "        # TODO: Make this actually do things... probably ask frank for a way to\n",
    "        # generate new lattices/errors on the fly\n",
    "        rng = torch.manual_seed(seed)\n",
    "        self.rng = rng\n",
    "    \n"
   ]
  },
  {
   "cell_type": "markdown",
   "metadata": {},
   "source": [
    "Create and check base environment"
   ]
  },
  {
   "cell_type": "code",
   "execution_count": 4,
   "metadata": {},
   "outputs": [
    {
     "name": "stdout",
     "output_type": "stream",
     "text": [
      "initializing worker processes\n"
     ]
    },
    {
     "name": "stderr",
     "output_type": "stream",
     "text": [
      "100%|██████████| 24/24 [01:08<00:00,  2.87s/it]\n"
     ]
    },
    {
     "name": "stdout",
     "output_type": "stream",
     "text": [
      "all pipes working\n",
      "getBPMreading: \n",
      "          checking closed took 0.2405862808227539 secs\n",
      "          getting BPM indices took 0.0004994869232177734 secs\n",
      "          finding orbit took 0.0 secs\n",
      "          finding offset took 0.003064393997192383 secs\n",
      "          getting noise took 0.002683401107788086 secs\n"
     ]
    },
    {
     "name": "stderr",
     "output_type": "stream",
     "text": [
      "2025-01-09 16:23:37,857 [torchrl][INFO] check_env_specs succeeded!\n"
     ]
    }
   ],
   "source": [
    "from torchrl.envs.utils import check_env_specs\n",
    "\n",
    "env_batch_size = 24\n",
    "base_env = LatticeEnv(rings[:env_batch_size], device=\"cuda\")\n",
    "check_env_specs(base_env)"
   ]
  },
  {
   "cell_type": "markdown",
   "metadata": {},
   "source": [
    "Add necessary transforms for normalization, etc."
   ]
  },
  {
   "cell_type": "code",
   "execution_count": 5,
   "metadata": {},
   "outputs": [
    {
     "name": "stderr",
     "output_type": "stream",
     "text": [
      "2025-01-09 16:23:41,488 [torchrl][INFO] check_env_specs succeeded!\n"
     ]
    }
   ],
   "source": [
    "from torchrl.envs import Compose, ObservationNorm, StepCounter, TransformedEnv\n",
    "\n",
    "env = TransformedEnv(\n",
    "    base_env,\n",
    "    Compose(\n",
    "        # normalize observations\n",
    "        ObservationNorm(in_keys=['bpm']),\n",
    "        StepCounter(),\n",
    "    ),\n",
    ")\n",
    "\n",
    "env.transform[0].init_stats(num_iter=5, reduce_dim=(0, 1, 2, 3), cat_dim=0)\n",
    "\n",
    "check_env_specs(env)"
   ]
  },
  {
   "cell_type": "code",
   "execution_count": 6,
   "metadata": {},
   "outputs": [
    {
     "name": "stdout",
     "output_type": "stream",
     "text": [
      "normalization constant shape: torch.Size([])\n",
      "tensor(-0.0535, device='cuda:0') tensor(15961.4629, device='cuda:0')\n"
     ]
    }
   ],
   "source": [
    "print(\"normalization constant shape:\", env.transform[0].loc.shape)\n",
    "print(env.transform[0].loc, env.transform[0].scale)"
   ]
  },
  {
   "cell_type": "code",
   "execution_count": 7,
   "metadata": {},
   "outputs": [
    {
     "name": "stdout",
     "output_type": "stream",
     "text": [
      "observation_spec: Composite(\n",
      "    bpm: UnboundedContinuous(\n",
      "        shape=torch.Size([24, 360, 2]),\n",
      "        space=ContinuousBox(\n",
      "            low=Tensor(shape=torch.Size([24, 360, 2]), device=cuda:0, dtype=torch.float32, contiguous=True),\n",
      "            high=Tensor(shape=torch.Size([24, 360, 2]), device=cuda:0, dtype=torch.float32, contiguous=True)),\n",
      "        device=cuda:0,\n",
      "        dtype=torch.float32,\n",
      "        domain=continuous),\n",
      "    step_count: BoundedDiscrete(\n",
      "        shape=torch.Size([24, 1]),\n",
      "        space=ContinuousBox(\n",
      "            low=Tensor(shape=torch.Size([24, 1]), device=cuda:0, dtype=torch.int64, contiguous=True),\n",
      "            high=Tensor(shape=torch.Size([24, 1]), device=cuda:0, dtype=torch.int64, contiguous=True)),\n",
      "        device=cuda:0,\n",
      "        dtype=torch.int64,\n",
      "        domain=discrete),\n",
      "    device=cuda:0,\n",
      "    shape=torch.Size([24]))\n",
      "reward_spec: UnboundedContinuous(\n",
      "    shape=torch.Size([24, 1]),\n",
      "    space=ContinuousBox(\n",
      "        low=Tensor(shape=torch.Size([24, 1]), device=cuda:0, dtype=torch.float32, contiguous=True),\n",
      "        high=Tensor(shape=torch.Size([24, 1]), device=cuda:0, dtype=torch.float32, contiguous=True)),\n",
      "    device=cuda:0,\n",
      "    dtype=torch.float32,\n",
      "    domain=continuous)\n",
      "input_spec: Composite(\n",
      "    full_state_spec: Composite(\n",
      "        bpm: UnboundedContinuous(\n",
      "            shape=torch.Size([24, 360, 2]),\n",
      "            space=ContinuousBox(\n",
      "                low=Tensor(shape=torch.Size([24, 360, 2]), device=cuda:0, dtype=torch.float32, contiguous=True),\n",
      "                high=Tensor(shape=torch.Size([24, 360, 2]), device=cuda:0, dtype=torch.float32, contiguous=True)),\n",
      "            device=cuda:0,\n",
      "            dtype=torch.float32,\n",
      "            domain=continuous),\n",
      "        step_count: BoundedDiscrete(\n",
      "            shape=torch.Size([24, 1]),\n",
      "            space=ContinuousBox(\n",
      "                low=Tensor(shape=torch.Size([24, 1]), device=cuda:0, dtype=torch.int64, contiguous=True),\n",
      "                high=Tensor(shape=torch.Size([24, 1]), device=cuda:0, dtype=torch.int64, contiguous=True)),\n",
      "            device=cuda:0,\n",
      "            dtype=torch.int64,\n",
      "            domain=discrete),\n",
      "        device=cuda:0,\n",
      "        shape=torch.Size([24])),\n",
      "    full_action_spec: Composite(\n",
      "        action: UnboundedContinuous(\n",
      "            shape=torch.Size([24, 792]),\n",
      "            space=ContinuousBox(\n",
      "                low=Tensor(shape=torch.Size([24, 792]), device=cuda:0, dtype=torch.float32, contiguous=True),\n",
      "                high=Tensor(shape=torch.Size([24, 792]), device=cuda:0, dtype=torch.float32, contiguous=True)),\n",
      "            device=cuda:0,\n",
      "            dtype=torch.float32,\n",
      "            domain=continuous),\n",
      "        device=cuda:0,\n",
      "        shape=torch.Size([24])),\n",
      "    device=cuda:0,\n",
      "    shape=torch.Size([24]))\n",
      "action_spec: UnboundedContinuous(\n",
      "    shape=torch.Size([24, 792]),\n",
      "    space=ContinuousBox(\n",
      "        low=Tensor(shape=torch.Size([24, 792]), device=cuda:0, dtype=torch.float32, contiguous=True),\n",
      "        high=Tensor(shape=torch.Size([24, 792]), device=cuda:0, dtype=torch.float32, contiguous=True)),\n",
      "    device=cuda:0,\n",
      "    dtype=torch.float32,\n",
      "    domain=continuous)\n"
     ]
    }
   ],
   "source": [
    "print(\"observation_spec:\", env.observation_spec)\n",
    "print(\"reward_spec:\", env.reward_spec)\n",
    "print(\"input_spec:\", env.input_spec)\n",
    "print(\"action_spec:\", env.action_spec)"
   ]
  },
  {
   "cell_type": "markdown",
   "metadata": {},
   "source": [
    "Perform test rollout with random policy"
   ]
  },
  {
   "cell_type": "code",
   "execution_count": 8,
   "metadata": {},
   "outputs": [
    {
     "name": "stdout",
     "output_type": "stream",
     "text": [
      "rollout of three steps: TensorDict(\n",
      "    fields={\n",
      "        action: Tensor(shape=torch.Size([24, 2, 792]), device=cuda:0, dtype=torch.float32, is_shared=True),\n",
      "        bpm: Tensor(shape=torch.Size([24, 2, 360, 2]), device=cuda:0, dtype=torch.float32, is_shared=True),\n",
      "        done: Tensor(shape=torch.Size([24, 2, 1]), device=cuda:0, dtype=torch.bool, is_shared=True),\n",
      "        next: TensorDict(\n",
      "            fields={\n",
      "                bpm: Tensor(shape=torch.Size([24, 2, 360, 2]), device=cuda:0, dtype=torch.float32, is_shared=True),\n",
      "                done: Tensor(shape=torch.Size([24, 2, 1]), device=cuda:0, dtype=torch.bool, is_shared=True),\n",
      "                reward: Tensor(shape=torch.Size([24, 2, 1]), device=cuda:0, dtype=torch.float32, is_shared=True),\n",
      "                step_count: Tensor(shape=torch.Size([24, 2, 1]), device=cuda:0, dtype=torch.int64, is_shared=True),\n",
      "                terminated: Tensor(shape=torch.Size([24, 2, 1]), device=cuda:0, dtype=torch.bool, is_shared=True)},\n",
      "            batch_size=torch.Size([24, 2]),\n",
      "            device=cuda:0,\n",
      "            is_shared=True),\n",
      "        step_count: Tensor(shape=torch.Size([24, 2, 1]), device=cuda:0, dtype=torch.int64, is_shared=True),\n",
      "        terminated: Tensor(shape=torch.Size([24, 2, 1]), device=cuda:0, dtype=torch.bool, is_shared=True)},\n",
      "    batch_size=torch.Size([24, 2]),\n",
      "    device=cuda:0,\n",
      "    is_shared=True)\n",
      "Shape of the rollout TensorDict: torch.Size([24, 2])\n"
     ]
    }
   ],
   "source": [
    "rollout = env.rollout(2)\n",
    "print(\"rollout of three steps:\", rollout)\n",
    "print(\"Shape of the rollout TensorDict:\", rollout.batch_size)"
   ]
  },
  {
   "cell_type": "markdown",
   "metadata": {},
   "source": [
    "## Define actor and critic models"
   ]
  },
  {
   "cell_type": "markdown",
   "metadata": {},
   "source": [
    "Create actor network and wrap in policy module"
   ]
  },
  {
   "cell_type": "code",
   "execution_count": 9,
   "metadata": {},
   "outputs": [],
   "source": [
    "from torch import nn\n",
    "from tensordict.nn import NormalParamExtractor\n",
    "\n",
    "cm_len = env.action_spec.shape[1]\n",
    "bpm_shape = env.observation_spec[\"bpm\"].shape[1:]\n",
    "\n",
    "device = \"cuda\"\n",
    "actor_net = nn.Sequential(\n",
    "    nn.Flatten(start_dim=-2),\n",
    "    nn.LazyLinear(bpm_shape[0] * bpm_shape[1], device=device),\n",
    "    nn.ReLU(),\n",
    "    nn.LazyLinear(bpm_shape[0] * bpm_shape[1], device=device),\n",
    "    nn.ReLU(),\n",
    "    nn.LazyLinear(cm_len * 2, device=device),\n",
    "    NormalParamExtractor(scale_mapping=\"biased_softplus_1.0\", scale_lb=1e-1),\n",
    ")\n",
    "\n",
    "policy_module = TensorDictModule(\n",
    "    actor_net, in_keys=[\"bpm\"], out_keys=[\"loc\", \"scale\"]\n",
    ")"
   ]
  },
  {
   "cell_type": "markdown",
   "metadata": {},
   "source": [
    "Create probabilistic actor using policy module"
   ]
  },
  {
   "cell_type": "code",
   "execution_count": 10,
   "metadata": {},
   "outputs": [],
   "source": [
    "from torchrl.modules import ProbabilisticActor, TanhNormal, IndependentNormal, ValueOperator\n",
    "\n",
    "policy_module = ProbabilisticActor(\n",
    "    module=policy_module,\n",
    "    spec=env.action_spec,\n",
    "    in_keys=[\"loc\", \"scale\"],\n",
    "    distribution_class=IndependentNormal,\n",
    "    distribution_kwargs={\n",
    "    },\n",
    "    return_log_prob=True,\n",
    "    # we'll need the log-prob for the numerator of the importance weights\n",
    ")"
   ]
  },
  {
   "cell_type": "markdown",
   "metadata": {},
   "source": [
    "Create value network and critic module"
   ]
  },
  {
   "cell_type": "code",
   "execution_count": 11,
   "metadata": {},
   "outputs": [],
   "source": [
    "bpm_len = bpm_shape[0] * bpm_shape[1]\n",
    "value_net = nn.Sequential(\n",
    "    nn.Flatten(start_dim=-2),\n",
    "    nn.Linear(bpm_len, bpm_len, device=device),\n",
    "    nn.ReLU(),\n",
    "    nn.Linear(bpm_len, bpm_len, device=device),\n",
    "    nn.ReLU(),\n",
    "    nn.Linear(bpm_len, 1, device=device),\n",
    ")\n",
    "\n",
    "value_module = ValueOperator(\n",
    "    module=value_net,\n",
    "    in_keys=[\"bpm\"],\n",
    ")"
   ]
  },
  {
   "cell_type": "code",
   "execution_count": 12,
   "metadata": {},
   "outputs": [
    {
     "name": "stdout",
     "output_type": "stream",
     "text": [
      "Running policy: TensorDict(\n",
      "    fields={\n",
      "        action: Tensor(shape=torch.Size([24, 792]), device=cuda:0, dtype=torch.float32, is_shared=True),\n",
      "        bpm: Tensor(shape=torch.Size([24, 360, 2]), device=cuda:0, dtype=torch.float32, is_shared=True),\n",
      "        done: Tensor(shape=torch.Size([24, 1]), device=cuda:0, dtype=torch.bool, is_shared=True),\n",
      "        loc: Tensor(shape=torch.Size([24, 792]), device=cuda:0, dtype=torch.float32, is_shared=True),\n",
      "        sample_log_prob: Tensor(shape=torch.Size([24]), device=cuda:0, dtype=torch.float32, is_shared=True),\n",
      "        scale: Tensor(shape=torch.Size([24, 792]), device=cuda:0, dtype=torch.float32, is_shared=True),\n",
      "        step_count: Tensor(shape=torch.Size([24, 1]), device=cuda:0, dtype=torch.int64, is_shared=True),\n",
      "        terminated: Tensor(shape=torch.Size([24, 1]), device=cuda:0, dtype=torch.bool, is_shared=True)},\n",
      "    batch_size=torch.Size([24]),\n",
      "    device=cuda:0,\n",
      "    is_shared=True)\n",
      "Running value: TensorDict(\n",
      "    fields={\n",
      "        bpm: Tensor(shape=torch.Size([24, 360, 2]), device=cuda:0, dtype=torch.float32, is_shared=True),\n",
      "        done: Tensor(shape=torch.Size([24, 1]), device=cuda:0, dtype=torch.bool, is_shared=True),\n",
      "        state_value: Tensor(shape=torch.Size([24, 1]), device=cuda:0, dtype=torch.float32, is_shared=True),\n",
      "        step_count: Tensor(shape=torch.Size([24, 1]), device=cuda:0, dtype=torch.int64, is_shared=True),\n",
      "        terminated: Tensor(shape=torch.Size([24, 1]), device=cuda:0, dtype=torch.bool, is_shared=True)},\n",
      "    batch_size=torch.Size([24]),\n",
      "    device=cuda:0,\n",
      "    is_shared=True)\n"
     ]
    }
   ],
   "source": [
    "print(\"Running policy:\", policy_module(env.reset()))\n",
    "print(\"Running value:\", value_module(env.reset()))"
   ]
  },
  {
   "cell_type": "markdown",
   "metadata": {},
   "source": [
    "## Set up PPO algorithm and replay buffer"
   ]
  },
  {
   "cell_type": "markdown",
   "metadata": {},
   "source": [
    "Create data collector object"
   ]
  },
  {
   "cell_type": "code",
   "execution_count": 13,
   "metadata": {},
   "outputs": [],
   "source": [
    "from torchrl.collectors import SyncDataCollector\n",
    "\n",
    "frames_per_batch = env_batch_size * 8\n",
    "\n",
    "outer_epochs = 128\n",
    "total_frames = frames_per_batch * outer_epochs\n",
    "\n",
    "collector = SyncDataCollector(\n",
    "    env,\n",
    "    policy_module,\n",
    "    frames_per_batch=frames_per_batch,\n",
    "    total_frames=total_frames,\n",
    "    split_trajs=False,\n",
    "    device=device,\n",
    "    reset_at_each_iter=True\n",
    ")"
   ]
  },
  {
   "cell_type": "markdown",
   "metadata": {},
   "source": [
    "We are using the replay buffer technique for enhanced training stability"
   ]
  },
  {
   "cell_type": "code",
   "execution_count": 14,
   "metadata": {},
   "outputs": [],
   "source": [
    "from torchrl.data.replay_buffers import ReplayBuffer\n",
    "from torchrl.data.replay_buffers.samplers import SamplerWithoutReplacement\n",
    "from torchrl.data.replay_buffers.storages import LazyTensorStorage\n",
    "\n",
    "replay_buffer = ReplayBuffer(\n",
    "    storage=LazyTensorStorage(max_size=frames_per_batch),\n",
    "    sampler=SamplerWithoutReplacement(),\n",
    ")"
   ]
  },
  {
   "cell_type": "markdown",
   "metadata": {},
   "source": [
    "Define hyperparameters, create advantage/loss modules and optimizer"
   ]
  },
  {
   "cell_type": "code",
   "execution_count": 15,
   "metadata": {},
   "outputs": [],
   "source": [
    "from torchrl.objectives import ClipPPOLoss\n",
    "from torchrl.objectives.value import GAE\n",
    "\n",
    "sub_batch_size = frames_per_batch  # size of the sub-samples gathered from the current data in the inner loop\n",
    "num_epochs = 10  # epochs per batch of data collected from interacting w/ env\n",
    "clip_epsilon = (\n",
    "    0.2  # clip value for PPO loss\n",
    ")\n",
    "gamma = 0.7\n",
    "lmbda = 0.95\n",
    "entropy_eps = 1e-10#3e-4\n",
    "lr = 1e-5#1e-8\n",
    "\n",
    "advantage_module = GAE(\n",
    "    gamma=gamma, lmbda=lmbda, value_network=value_module, average_gae=True\n",
    ")\n",
    "\n",
    "loss_module = ClipPPOLoss(\n",
    "    actor_network=policy_module,\n",
    "    critic_network=value_module,\n",
    "    clip_epsilon=clip_epsilon,\n",
    "    entropy_bonus=bool(entropy_eps),\n",
    "    entropy_coef=entropy_eps,\n",
    "    # these keys match by default but we set this for completeness\n",
    "    critic_coef=1.0,\n",
    "    loss_critic_type=\"smooth_l1\",\n",
    ")\n",
    "\n",
    "optim = torch.optim.Adam(loss_module.parameters(), lr)\n",
    "#scheduler = torch.optim.lr_scheduler.CosineAnnealingLR(optim, \n",
    "#                                                       total_frames // frames_per_batch, \n",
    "#                                                       0.0)"
   ]
  },
  {
   "cell_type": "markdown",
   "metadata": {},
   "source": [
    "## Training and diagnostics"
   ]
  },
  {
   "cell_type": "code",
   "execution_count": 16,
   "metadata": {},
   "outputs": [
    {
     "name": "stderr",
     "output_type": "stream",
     "text": [
      "eval reward: -0.1766 (init: -0.1836),   mean reward: -0.3494 (init: -0.4786): 100%|██████████| 24576/24576 [13:11<00:00, 31.30it/s]"
     ]
    }
   ],
   "source": [
    "from tqdm import tqdm\n",
    "from torchrl.envs.utils import check_env_specs, ExplorationType, set_exploration_type\n",
    "\n",
    "\n",
    "logs = defaultdict(list)\n",
    "pbar = tqdm(total=total_frames)\n",
    "eval_str = \"\"\n",
    "\n",
    "eval_period = 1\n",
    "\n",
    "max_grad_norm = 1.0\n",
    "\n",
    "\n",
    "# We iterate over the collector until it reaches the total number of frames it was\n",
    "# made to collect, i.e., total_frames\n",
    "for i, tensordict_data in enumerate(collector):\n",
    "    # For each batch of data collected, we perform num_epochs rounds of optimization\n",
    "    for ep in range(num_epochs):\n",
    "        # Critic network is updated in the inner loop, so need to compute\n",
    "        # advantage signal too\n",
    "        advantage_module(tensordict_data)\n",
    "        data_view = tensordict_data.reshape(-1)\n",
    "\n",
    "        # Instead of using the data directly, we add it to the replay buffer\n",
    "        # and sample it from there\n",
    "        replay_buffer.extend(data_view.cpu())\n",
    "        for _ in range(frames_per_batch // sub_batch_size):\n",
    "            subdata = replay_buffer.sample(sub_batch_size)\n",
    "            loss_vals = loss_module(subdata.to(device))\n",
    "            loss_value = (\n",
    "                loss_vals[\"loss_objective\"]\n",
    "                + loss_vals[\"loss_critic\"]\n",
    "                + loss_vals[\"loss_entropy\"]\n",
    "            )\n",
    "            #for name, loss_val in loss_vals.items():\n",
    "            #    print(f\"{name}: {loss_val}\")\n",
    "\n",
    "            # perform backprop and optimize\n",
    "            loss_value.backward()\n",
    "            # clipping isn't necessary here but probably good anyways\n",
    "            torch.nn.utils.clip_grad_norm_(loss_module.parameters(), max_grad_norm)\n",
    "            optim.step()\n",
    "            optim.zero_grad()\n",
    "            \n",
    "    logs[\"reward\"].append(tensordict_data[\"next\", \"reward\"].mean().item())\n",
    "    pbar.update(tensordict_data.numel())\n",
    "    cum_reward_str = f\"mean reward: {logs['reward'][-1]:4.4f} (init: {logs['reward'][0]:4.4f})\"\n",
    "    logs[\"step_count\"].append(tensordict_data[\"step_count\"].max().item())\n",
    "    stepcount_str = f\"max steps: {logs['step_count'][-1]}\"\n",
    "    logs[\"lr\"].append(optim.param_groups[0][\"lr\"])\n",
    "    #lr_str = f\"lr policy: {logs['lr'][-1]:4.4f}\"\n",
    "\n",
    "    if i % eval_period == 0:\n",
    "        # By setting the policy module to forgo exploration (take the mean of\n",
    "        # the output distribution), we can accurately evaluate model performance\n",
    "        with set_exploration_type(ExplorationType.MEAN), torch.no_grad():\n",
    "            # execute a rollout with the trained policy\n",
    "            eval_rollout = env.rollout(5, policy_module)\n",
    "\n",
    "            logs[\"eval reward\"].append(eval_rollout[\"next\", \"reward\"].mean().item())\n",
    "            logs[\"eval reward (sum)\"].append(eval_rollout[\"next\", \"reward\"].sum().item())\n",
    "            logs[\"eval step_count\"].append(eval_rollout[\"step_count\"].max().item())\n",
    "            eval_str = (\n",
    "                f\"eval reward: {logs['eval reward'][-1]:4.4f} \"\n",
    "                f\"(init: {logs['eval reward'][0]:4.4f})\"\n",
    "                #f\"eval max steps: {logs['eval step_count'][-1]}\"\n",
    "            )\n",
    "            del eval_rollout\n",
    "    pbar.set_description(\"  \".join([eval_str, cum_reward_str]))\n",
    "\n",
    "    # maybe use lr scheduler?\n",
    "    #scheduler.step()"
   ]
  },
  {
   "cell_type": "code",
   "execution_count": 17,
   "metadata": {},
   "outputs": [
    {
     "data": {
      "image/png": "[encoded data removed]",
      "text/plain": [
       "<Figure size 1000x1000 with 4 Axes>"
      ]
     },
     "metadata": {},
     "output_type": "display_data"
    },
    {
     "name": "stderr",
     "output_type": "stream",
     "text": [
      "eval reward: -0.1766 (init: -0.1836),   mean reward: -0.3494 (init: -0.4786): 100%|██████████| 24576/24576 [13:23<00:00, 31.30it/s]"
     ]
    }
   ],
   "source": [
    "plt.figure(figsize=(10, 10))\n",
    "plt.subplot(2, 2, 1)\n",
    "plt.plot(logs[\"reward\"])\n",
    "plt.title(\"training rewards\")\n",
    "plt.subplot(2, 2, 2)\n",
    "plt.plot(logs[\"step_count\"])\n",
    "plt.title(\"Max step count (training)\")\n",
    "plt.subplot(2, 2, 3)\n",
    "plt.plot(logs[\"eval reward\"])\n",
    "plt.title(\"eval rewards\")\n",
    "plt.subplot(2, 2, 4)\n",
    "plt.plot(logs[\"eval step_count\"])\n",
    "plt.title(\"Max step count (eval)\")\n",
    "plt.show()"
   ]
  }
 ],
 "metadata": {
  "kernelspec": {
   "display_name": "torch",
   "language": "python",
   "name": "python3"
  },
  "language_info": {
   "codemirror_mode": {
    "name": "ipython",
    "version": 3
   },
   "file_extension": ".py",
   "mimetype": "text/x-python",
   "name": "python",
   "nbconvert_exporter": "python",
   "pygments_lexer": "ipython3",
   "version": "3.9.19"
  }
 },
 "nbformat": 4,
 "nbformat_minor": 2
}
